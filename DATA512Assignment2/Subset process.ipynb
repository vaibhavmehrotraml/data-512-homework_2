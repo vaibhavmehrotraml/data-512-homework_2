{
 "cells": [
  {
   "cell_type": "code",
   "execution_count": 7,
   "id": "ac1fd253",
   "metadata": {},
   "outputs": [],
   "source": [
    "import pandas as pd"
   ]
  },
  {
   "cell_type": "code",
   "execution_count": 37,
   "id": "66d99e73",
   "metadata": {},
   "outputs": [],
   "source": [
    "df_pred = df.articlequality.apply(pd.Series).score.apply(pd.Series)"
   ]
  },
  {
   "cell_type": "code",
   "execution_count": 48,
   "id": "0c0e2edc",
   "metadata": {},
   "outputs": [
    {
     "name": "stdout",
     "output_type": "stream",
     "text": [
      "{'enwiki': {'models': {'articlequality': {'version': '0.9.2'}}, 'scores': {'1165747816': {'articlequality': {'score': {'prediction': 'C', 'probability': {'B': 0.1875410373343775, 'C': 0.44171309709857626, 'FA': 0.007787104010679705, 'GA': 0.12466976489858257, 'Start': 0.23294489967920692, 'Stub': 0.005344096978577155}}}}}}}\n"
     ]
    }
   ],
   "source": [
    "# Load the JSON data and combine into one dataframe, focusing just on the scores\n",
    "df_list = []\n",
    "missing = []\n",
    "for file in os.listdir('ores_json_data/'):    \n",
    "    with open(f'ores_json_data/{file}') as f:\n",
    "        try:\n",
    "            d = json.load(f)\n",
    "        except UnicodeDecodeError as e:\n",
    "            print(f'Error {e} in {file}')\n",
    "        if 'httpReason' in d.keys():\n",
    "            missing.append(file)\n",
    "            print('No record found for', file)\n",
    "            continue\n",
    "        print(d)\n",
    "        df_list.append(pd.DataFrame(d['enwiki']['scores']).T)\n",
    "    break\n",
    "\n",
    "df_ores = pd.concat(df_list)"
   ]
  },
  {
   "cell_type": "code",
   "execution_count": 46,
   "id": "45832cc8",
   "metadata": {},
   "outputs": [
    {
     "data": {
      "text/plain": [
       "{'score': {'prediction': 'C',\n",
       "  'probability': {'B': 0.1875410373343775,\n",
       "   'C': 0.44171309709857626,\n",
       "   'FA': 0.007787104010679705,\n",
       "   'GA': 0.12466976489858257,\n",
       "   'Start': 0.23294489967920692,\n",
       "   'Stub': 0.005344096978577155}}}"
      ]
     },
     "execution_count": 46,
     "metadata": {},
     "output_type": "execute_result"
    }
   ],
   "source": [
    "df_ores.articlequality.iloc[0]"
   ]
  },
  {
   "cell_type": "code",
   "execution_count": 52,
   "id": "01296909",
   "metadata": {},
   "outputs": [
    {
     "data": {
      "text/plain": [
       "{'models': {'articlequality': {'version': '0.9.2'}},\n",
       " 'scores': {'1165747816': {'articlequality': {'score': {'prediction': 'C',\n",
       "     'probability': {'B': 0.1875410373343775,\n",
       "      'C': 0.44171309709857626,\n",
       "      'FA': 0.007787104010679705,\n",
       "      'GA': 0.12466976489858257,\n",
       "      'Start': 0.23294489967920692,\n",
       "      'Stub': 0.005344096978577155}}}}}}"
      ]
     },
     "execution_count": 52,
     "metadata": {},
     "output_type": "execute_result"
    }
   ],
   "source": [
    "d['enwiki']"
   ]
  }
 ],
 "metadata": {
  "kernelspec": {
   "display_name": "Python 3 (ipykernel)",
   "language": "python",
   "name": "python3"
  },
  "language_info": {
   "codemirror_mode": {
    "name": "ipython",
    "version": 3
   },
   "file_extension": ".py",
   "mimetype": "text/x-python",
   "name": "python",
   "nbconvert_exporter": "python",
   "pygments_lexer": "ipython3",
   "version": "3.9.16"
  }
 },
 "nbformat": 4,
 "nbformat_minor": 5
}
